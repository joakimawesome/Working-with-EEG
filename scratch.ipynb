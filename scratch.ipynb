{
 "cells": [
  {
   "cell_type": "code",
   "execution_count": 2,
   "metadata": {},
   "outputs": [],
   "source": [
    "import os\n",
    "from tqdm import tqdm\n",
    "import numpy as np\n",
    "import pandas as pd\n",
    "import mne"
   ]
  },
  {
   "cell_type": "code",
   "execution_count": 3,
   "metadata": {},
   "outputs": [],
   "source": [
    "def getOverlap(a,b):\n",
    "    \"\"\"\n",
    "    get the number of ms overlapped between 2 time windows\n",
    "    \"\"\"\n",
    "    return max(0,min(a[1],b[1]) - max(a[0],b[0]))"
   ]
  },
  {
   "cell_type": "code",
   "execution_count": 4,
   "metadata": {},
   "outputs": [],
   "source": [
    "# trial\n",
    "suj = '23'\n",
    "day = '1'"
   ]
  },
  {
   "cell_type": "code",
   "execution_count": 5,
   "metadata": {},
   "outputs": [
    {
     "name": "stdout",
     "output_type": "stream",
     "text": [
      "Extracting parameters from ../../EEG/suj23_l2nap_day1.vhdr...\n",
      "Setting channel info structure...\n",
      "Reading 0 ... 1804149  =      0.000 ...  1804.149 secs...\n",
      "EEG channel type selected for re-referencing\n",
      "Adding average EEG reference projection.\n",
      "1 projection items deactivated\n",
      "Average reference projection was added, but has not been applied yet. Use the apply_proj method to apply it.\n",
      "Created an SSP operator (subspace dimension = 1)\n",
      "1 projection items activated\n",
      "SSP projectors applied...\n"
     ]
    },
    {
     "data": {
      "text/html": [
       "<table class=\"table table-hover table-striped table-sm table-responsive small\">\n",
       "    <tr>\n",
       "        <th>Measurement date</th>\n",
       "        \n",
       "        <td>November 18, 2015  12:21:50 GMT</td>\n",
       "        \n",
       "    </tr>\n",
       "    <tr>\n",
       "        <th>Experimenter</th>\n",
       "        \n",
       "        <td>Unknown</td>\n",
       "        \n",
       "    </tr>\n",
       "        <th>Participant</th>\n",
       "        \n",
       "        <td>Unknown</td>\n",
       "        \n",
       "    </tr>\n",
       "    <tr>\n",
       "        <th>Digitized points</th>\n",
       "        \n",
       "        <td>64 points</td>\n",
       "        \n",
       "    </tr>\n",
       "    <tr>\n",
       "        <th>Good channels</th>\n",
       "        <td>61 EEG, 2 EOG, 1 misc</td>\n",
       "    </tr>\n",
       "    <tr>\n",
       "        <th>Bad channels</th>\n",
       "        <td>None</td>\n",
       "    </tr>\n",
       "    <tr>\n",
       "        <th>EOG channels</th>\n",
       "        <td>LOc, ROc</td>\n",
       "    </tr>\n",
       "    <tr>\n",
       "        <th>ECG channels</th>\n",
       "        <td>Not available</td>\n",
       "    \n",
       "    <tr>\n",
       "        <th>Sampling frequency</th>\n",
       "        <td>1000.00 Hz</td>\n",
       "    </tr>\n",
       "    \n",
       "    \n",
       "    <tr>\n",
       "        <th>Highpass</th>\n",
       "        <td>0.00 Hz</td>\n",
       "    </tr>\n",
       "    \n",
       "    \n",
       "    <tr>\n",
       "        <th>Lowpass</th>\n",
       "        <td>500.00 Hz</td>\n",
       "    </tr>\n",
       "    \n",
       "    \n",
       "    <tr>\n",
       "        <th>Projections</th>\n",
       "        <td>Average EEG reference : on</td>\n",
       "    </tr>\n",
       "    \n",
       "    \n",
       "    <tr>\n",
       "        <th>Filenames</th>\n",
       "        <td>suj23_l2nap_day1.eeg</td>\n",
       "    </tr>\n",
       "    \n",
       "    <tr>\n",
       "        <th>Duration</th>\n",
       "        <td>00:30:05 (HH:MM:SS)</td>\n",
       "    </tr>\n",
       "</table>"
      ],
      "text/plain": [
       "<RawBrainVision | suj23_l2nap_day1.eeg, 64 x 1804150 (1804.1 s), ~881.0 MB, data loaded>"
      ]
     },
     "execution_count": 5,
     "metadata": {},
     "output_type": "execute_result"
    }
   ],
   "source": [
    "eeg_dir             = '../../EEG/'\n",
    "annotation_dir      = 'annotations/'\n",
    "\n",
    "f_name = f'suj{suj}_l2nap_day{day}.vhdr'\n",
    "\n",
    "raw = mne.io.read_raw_brainvision(eeg_dir + f_name, preload=True)\n",
    "\n",
    "# set the EOG channels\n",
    "channel_types = {'LOc':'eog','ROc':'eog','Aux1':'misc'}\n",
    "raw.set_channel_types(channel_types)\n",
    "\n",
    "raw_ref, _  = mne.set_eeg_reference(raw,\n",
    "                                    ref_channels = 'average',\n",
    "                                    projection   = True,)\n",
    "raw_ref.apply_proj() # it might tell you it already has been re-referenced, but do it anyway\n",
    "\n",
    "# read standard montage - montage is important for visualization\n",
    "montage = mne.channels.make_standard_montage('standard_1020');#montage.plot();#montage.plot()\n",
    "raw.set_montage(montage)"
   ]
  },
  {
   "cell_type": "code",
   "execution_count": 6,
   "metadata": {},
   "outputs": [],
   "source": [
    "# some hyper-hyper-parameters\n",
    "time_steps  = 250  # in miliseconds\n",
    "window_size = 1000 # in miliseconds"
   ]
  },
  {
   "cell_type": "code",
   "execution_count": 13,
   "metadata": {},
   "outputs": [
    {
     "name": "stdout",
     "output_type": "stream",
     "text": [
      "stage 2 sleep annotations are provided\n"
     ]
    },
    {
     "name": "stderr",
     "output_type": "stream",
     "text": [
      "100%|██████████| 7082/7082 [00:00<00:00, 41807.09it/s]\n"
     ]
    }
   ],
   "source": [
    "# create time segments for cutting overlapping windows\n",
    "df_events           = pd.read_csv(os.path.join(annotation_dir,\n",
    "                                               f'suj{suj}_day{day}_annotations.txt'))\n",
    "\n",
    "# we cut off the last part of EEG when no particular events\n",
    "spindle_events      = df_events[df_events['Annotation'] == 'spindle']\n",
    "kcomplex_events     = df_events[df_events['Annotation'] == 'k-complex']\n",
    "stage_2_sleep_events= df_events[df_events['Annotation'] == 'Marker:Markoff: 2']\n",
    "\n",
    "# we only look at the data from when the first 2nd stage sleep started\n",
    "if len(stage_2_sleep_events) > 1:\n",
    "    print('stage 2 sleep annotations are provided')\n",
    "    tmin            = np.min(stage_2_sleep_events['Onset'].values)\n",
    "else:\n",
    "    tmin            = 0\n",
    "# and we stop looking at the data when the last spindle, kcomplex, or 2nd stage stops,\n",
    "# whichever one happens the latest\n",
    "tmax                = np.max([spindle_events['Onset'].values.max(),\n",
    "                              kcomplex_events['Onset'].values.max() + 1,\n",
    "                              stage_2_sleep_events['Onset'].values.max() + 1,\n",
    "                            ]) * raw.info['sfreq']\n",
    "onsets              = np.arange(start = tmin,\n",
    "                                stop  = tmax,\n",
    "                                step  = time_steps)\n",
    "\n",
    "offsets             = onsets + window_size\n",
    "\n",
    "windows             = np.vstack([onsets,offsets]).T.astype(int)\n",
    "\n",
    "# ***label spindles***\n",
    "# if a segement of EEG contains a spindle time stamp, it is labeled \"1\"\n",
    "# so we directly use the Pandas DataFrame in the name of \"spindle_events\" we created above\n",
    "spindle_time_stamps = np.array(spindle_events['Onset'].values * 1000,\n",
    "                               dtype = 'int')\n",
    "labels              = []\n",
    "# let's define all spindle lasted for 1.5 seconds and the annotated time stamp was put on the .25 second location\n",
    "intervals = [[item-250,item+1250] for item in spindle_time_stamps]\n",
    "\n",
    "# if the segmented window overlap any spindle window, it is defined as a spindle segment\n",
    "# but, we want to define the \"overlap\" better, so I also add a term \"tolerate\"\n",
    "# only if the overlapping is more than some minimum requirement -- tolerate -- we can say it is a spindle\n",
    "tol = 20 # in milliseconds\n",
    "for window in tqdm(windows):\n",
    "    if np.sum([getOverlap(window,item) for item in intervals]) > tol:\n",
    "        labels.append(1)\n",
    "    else:\n",
    "        labels.append(0)\n",
    "\n",
    "event_id            = {'spindle':1,'no spindle':0}\n",
    "events              = np.vstack([onsets,\n",
    "                                 np.zeros(onsets.shape),\n",
    "                                 np.array(labels)]).T.astype(int)\n"
   ]
  },
  {
   "cell_type": "code",
   "execution_count": 17,
   "metadata": {},
   "outputs": [
    {
     "data": {
      "text/plain": [
       "1"
      ]
     },
     "execution_count": 17,
     "metadata": {},
     "output_type": "execute_result"
    }
   ],
   "source": [
    "event_id['spindle']"
   ]
  },
  {
   "cell_type": "code",
   "execution_count": null,
   "metadata": {},
   "outputs": [],
   "source": []
  }
 ],
 "metadata": {
  "kernelspec": {
   "display_name": "ucsdenv",
   "language": "python",
   "name": "python3"
  },
  "language_info": {
   "codemirror_mode": {
    "name": "ipython",
    "version": 3
   },
   "file_extension": ".py",
   "mimetype": "text/x-python",
   "name": "python",
   "nbconvert_exporter": "python",
   "pygments_lexer": "ipython3",
   "version": "3.10.11"
  },
  "orig_nbformat": 4
 },
 "nbformat": 4,
 "nbformat_minor": 2
}
